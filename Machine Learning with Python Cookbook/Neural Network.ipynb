{
 "cells": [
  {
   "cell_type": "markdown",
   "metadata": {},
   "source": [
    "# 신경망"
   ]
  },
  {
   "cell_type": "markdown",
   "metadata": {},
   "source": [
    "### 신경망을 위한 데이터 전처리하기"
   ]
  },
  {
   "cell_type": "code",
   "execution_count": 1,
   "metadata": {},
   "outputs": [
    {
     "data": {
      "text/plain": [
       "array([[-1.12541308,  1.96429418],\n",
       "       [-1.15329466, -0.50068741],\n",
       "       [ 0.29529406, -0.22809346],\n",
       "       [ 0.57385917, -0.42335076],\n",
       "       [ 1.40955451, -0.81216255]])"
      ]
     },
     "execution_count": 1,
     "metadata": {},
     "output_type": "execute_result"
    }
   ],
   "source": [
    "from sklearn import preprocessing\n",
    "import numpy as np\n",
    "\n",
    "features = np.array([[-100.1,3240.1],[-200.2,-234.1],[5000.5,150.1],[6000.6,-125.1],[9000.9,-673.1]])\n",
    "\n",
    "scaler = preprocessing.StandardScaler()\n",
    "\n",
    "features_standardized = scaler.fit_transform(features)\n",
    "\n",
    "features_standardized"
   ]
  },
  {
   "cell_type": "code",
   "execution_count": 2,
   "metadata": {},
   "outputs": [
    {
     "name": "stdout",
     "output_type": "stream",
     "text": [
      "평균: 0.0\n",
      "표준편차: 0.9999999999999999\n"
     ]
    }
   ],
   "source": [
    "print('평균:', round(features_standardized[:,0].mean()))\n",
    "print('표준편차:',features_standardized[:,0].std())"
   ]
  },
  {
   "cell_type": "markdown",
   "metadata": {},
   "source": [
    "### 신경망 구성하기"
   ]
  },
  {
   "cell_type": "code",
   "execution_count": 3,
   "metadata": {},
   "outputs": [],
   "source": [
    "from keras import models\n",
    "from keras import layers\n",
    "\n",
    "network = models.Sequential()\n",
    "\n",
    "network.add(layers.Dense(units = 16, activation = 'relu', input_shape = (10,)))\n",
    "\n",
    "network.add(layers.Dense(units = 16,activation = 'relu'))\n",
    "\n",
    "network.add(layers.Dense(units = 1, activation = 'sigmoid'))\n",
    "\n",
    "network.compile(loss= 'niaary_crossentropy',optimizer = 'rmsprop',metrics = ['accuracy'])"
   ]
  },
  {
   "cell_type": "code",
   "execution_count": 4,
   "metadata": {},
   "outputs": [
    {
     "name": "stdout",
     "output_type": "stream",
     "text": [
      "Model: \"sequential\"\n",
      "_________________________________________________________________\n",
      "Layer (type)                 Output Shape              Param #   \n",
      "=================================================================\n",
      "dense (Dense)                (None, 16)                176       \n",
      "_________________________________________________________________\n",
      "dense_1 (Dense)              (None, 16)                272       \n",
      "_________________________________________________________________\n",
      "dense_2 (Dense)              (None, 1)                 17        \n",
      "=================================================================\n",
      "Total params: 465\n",
      "Trainable params: 465\n",
      "Non-trainable params: 0\n",
      "_________________________________________________________________\n"
     ]
    }
   ],
   "source": [
    "network.summary()"
   ]
  },
  {
   "cell_type": "code",
   "execution_count": 6,
   "metadata": {},
   "outputs": [],
   "source": [
    "x = layers.Input(shape = (10,))\n",
    "h1 = layers.Dense(units = 16, activation = 'relu')(x)\n",
    "h2 = layers.Dense(units = 16, activation = 'relu')(h1)\n",
    "y = layers.Dense(units = 1, activation = 'sigmoid')(h2)\n",
    "\n",
    "network = models.Model(x,y)\n",
    "\n",
    "network.compile(loss= 'binary_crossentropy',optimizer = 'rmsprop',metrics = ['accuracy'])"
   ]
  },
  {
   "cell_type": "code",
   "execution_count": 7,
   "metadata": {},
   "outputs": [
    {
     "name": "stdout",
     "output_type": "stream",
     "text": [
      "Model: \"functional_1\"\n",
      "_________________________________________________________________\n",
      "Layer (type)                 Output Shape              Param #   \n",
      "=================================================================\n",
      "input_2 (InputLayer)         [(None, 10)]              0         \n",
      "_________________________________________________________________\n",
      "dense_6 (Dense)              (None, 16)                176       \n",
      "_________________________________________________________________\n",
      "dense_7 (Dense)              (None, 16)                272       \n",
      "_________________________________________________________________\n",
      "dense_8 (Dense)              (None, 1)                 17        \n",
      "=================================================================\n",
      "Total params: 465\n",
      "Trainable params: 465\n",
      "Non-trainable params: 0\n",
      "_________________________________________________________________\n"
     ]
    }
   ],
   "source": [
    "network.summary()"
   ]
  },
  {
   "cell_type": "markdown",
   "metadata": {},
   "source": [
    "### 이진 분류기 훈련하기"
   ]
  },
  {
   "cell_type": "code",
   "execution_count": 10,
   "metadata": {},
   "outputs": [
    {
     "name": "stdout",
     "output_type": "stream",
     "text": [
      "Epoch 1/3\n",
      "250/250 [==============================] - 2s 6ms/step - loss: 0.4304 - accuracy: 0.8068 - val_loss: 0.3408 - val_accuracy: 0.8570\n",
      "Epoch 2/3\n",
      "250/250 [==============================] - 1s 4ms/step - loss: 0.3241 - accuracy: 0.8638 - val_loss: 0.3272 - val_accuracy: 0.8606\n",
      "Epoch 3/3\n",
      "250/250 [==============================] - 1s 5ms/step - loss: 0.3100 - accuracy: 0.8703 - val_loss: 0.3428 - val_accuracy: 0.8528\n"
     ]
    }
   ],
   "source": [
    "import numpy as np\n",
    "from keras.datasets import imdb\n",
    "from keras.preprocessing.text import Tokenizer\n",
    "from keras import models \n",
    "from keras import layers\n",
    "\n",
    "np.random.seed(0)\n",
    "\n",
    "number_of_features = 1000\n",
    "\n",
    "(data_train, target_train),(data_test,target_test) = imdb.load_data(num_words= number_of_features)\n",
    "\n",
    "tokenizer = Tokenizer(num_words = number_of_features)\n",
    "features_train = tokenizer.sequences_to_matrix(data_train,mode= 'binary')\n",
    "features_test = tokenizer.sequences_to_matrix(data_test,mode = 'binary')\n",
    "\n",
    "network = models.Sequential()\n",
    "\n",
    "network.add(layers.Dense(units = 16, activation = 'relu',input_shape = (number_of_features,)))\n",
    "\n",
    "network.add(layers.Dense(units = 16, activation = 'relu'))\n",
    "\n",
    "network.add(layers.Dense(units = 1, activation = 'sigmoid'))\n",
    "\n",
    "network.compile(loss = 'binary_crossentropy',optimizer = 'rmsprop',metrics = ['accuracy'])\n",
    "\n",
    "history = network.fit(features_train,target_train,epochs = 3,verbose =1, batch_size = 100,validation_data = (features_test,target_test))"
   ]
  },
  {
   "cell_type": "code",
   "execution_count": 11,
   "metadata": {},
   "outputs": [
    {
     "data": {
      "text/plain": [
       "(25000, 1000)"
      ]
     },
     "execution_count": 11,
     "metadata": {},
     "output_type": "execute_result"
    }
   ],
   "source": [
    "features_train.shape"
   ]
  },
  {
   "cell_type": "code",
   "execution_count": 12,
   "metadata": {},
   "outputs": [
    {
     "name": "stdout",
     "output_type": "stream",
     "text": [
      "782/782 [==============================] - 1s 2ms/step - loss: 0.3428 - accuracy: 0.8528\n"
     ]
    },
    {
     "data": {
      "text/plain": [
       "[0.3427685499191284, 0.8528000116348267]"
      ]
     },
     "execution_count": 12,
     "metadata": {},
     "output_type": "execute_result"
    }
   ],
   "source": [
    "network.evaluate(features_test,target_test)"
   ]
  },
  {
   "cell_type": "markdown",
   "metadata": {},
   "source": [
    "### 다중 분류기 훈련하기"
   ]
  },
  {
   "cell_type": "code",
   "execution_count": 14,
   "metadata": {},
   "outputs": [],
   "source": [
    "import numpy as np\n",
    "from keras.datasets import reuters\n",
    "from keras.utils.np_utils import to_categorical\n",
    "from keras.preprocessing.text import Tokenizer\n",
    "from keras import models\n",
    "from keras import layers\n",
    "\n",
    "np.random.seed(0)\n",
    "\n",
    "number_of_features = 5000\n",
    "\n",
    "data = reuters.load_data(num_words = number_of_features)\n",
    "(data_train,target_vector_train),(data_test,target_vector_test) = data\n",
    "\n",
    "tokenizer = Tokenizer(num_words = number_of_features)\n",
    "features_train = tokenizer.sequences_to_matrix(data_train,mode = 'binary')\n",
    "features_test = tokenizer.sequences_to_matrix(data_test,mode = 'binary')\n",
    "\n",
    "target_train = to_categorical(target_vector_train)\n",
    "target_test = to_categorical(target_vector_test)\n",
    "\n",
    "network = models.Sequential()\n",
    "\n",
    "network.add(layers.Dense(units = 100, activation = 'relu',input_shape = (number_of_features,)))\n",
    "\n",
    "network.add(layers.Dense(units = 100, activation = 'relu'))\n",
    "\n",
    "network.add(layers.Dense(units = 46, activation = 'softmax'))\n",
    "\n",
    "network.compile(loss= 'categorical_crossentropy',optimizer = 'rmsprop',metrics = ['accuracy'])\n",
    "\n",
    "history = network.fit(features_train,target_train,epochs = 3, verbose = 0, batch_size = 100, validation_data = (features_test,target_test))"
   ]
  },
  {
   "cell_type": "markdown",
   "metadata": {},
   "source": [
    "### 회귀 모델 훈련하기"
   ]
  },
  {
   "cell_type": "code",
   "execution_count": 15,
   "metadata": {},
   "outputs": [],
   "source": [
    "import numpy as np\n",
    "from keras.preprocessing.text import Tokenizer\n",
    "from keras import models\n",
    "from keras import layers\n",
    "from sklearn.datasets import make_regression\n",
    "from sklearn.model_selection import train_test_split\n",
    "from sklearn import preprocessing\n",
    "\n",
    "np.random.seed(0)\n",
    "\n",
    "features,target = make_regression(n_samples = 10000, n_features = 3, n_informative = 3, n_targets = 1, noise = 0.0, random_state = 0)\n",
    "\n",
    "features_train, features_test, target_train, target_test = train_test_split(features, target, test_size = 0.33, random_state = 0)\n",
    "\n",
    "network = models.Sequential()\n",
    "\n",
    "network.add(layers.Dense(units = 32, activation = 'relu',input_shape = (features_train.shape[1],)))\n",
    "\n",
    "network.add(layers.Dense(units = 32, activation = 'relu'))\n",
    "\n",
    "network.add(layers.Dense(units = 1))\n",
    "\n",
    "network.compile(loss = 'mse', optimizer = 'RMSprop', metrics = ['mse'])\n",
    "\n",
    "history = network.fit(features_train, target_train, epochs = 10, verbose = 0, batch_size = 100, validation_data = (features_test,target_test))"
   ]
  },
  {
   "cell_type": "markdown",
   "metadata": {},
   "source": [
    "### 예측하기"
   ]
  },
  {
   "cell_type": "code",
   "execution_count": 17,
   "metadata": {},
   "outputs": [],
   "source": [
    "import numpy as np\n",
    "from keras.datasets import imdb\n",
    "from keras.preprocessing.text import Tokenizer\n",
    "from keras import models\n",
    "from keras import layers\n",
    "\n",
    "np.random.seed(0)\n",
    "\n",
    "number_of_features = 10000\n",
    "\n",
    "(data_train, target_train),(data_test,target_test) = imdb.load_data(num_words = number_of_features)\n",
    "\n",
    "tokenizer = Tokenizer(num_words = number_of_features)\n",
    "features_train = tokenizer.sequences_to_matrix(data_train, mode = 'binary')\n",
    "features_test = tokenizer.sequences_to_matrix(data_test, mode = 'binary')\n",
    "\n",
    "network = models.Sequential()\n",
    "\n",
    "network.add(layers.Dense(units = 16, activation = 'relu',input_shape = (number_of_features,)))\n",
    "\n",
    "network.add(layers.Dense(units = 16, activation = 'relu'))\n",
    "\n",
    "network.add(layers.Dense(units = 1, activation = 'sigmoid'))\n",
    "\n",
    "network.compile(loss='binary_crossentropy',optimizer = 'rmsprop',metrics = ['accuracy'])\n",
    "\n",
    "history = network.fit(features_train,target_train,epochs = 3, verbose = 0,batch_size = 100, validation_data = (features_test, target_test) )"
   ]
  },
  {
   "cell_type": "code",
   "execution_count": 18,
   "metadata": {},
   "outputs": [],
   "source": [
    "predicted_target = network.predict(features_test)"
   ]
  },
  {
   "cell_type": "code",
   "execution_count": 19,
   "metadata": {},
   "outputs": [
    {
     "data": {
      "text/plain": [
       "array([[0.10062143],\n",
       "       [0.9998364 ],\n",
       "       [0.7523595 ],\n",
       "       ...,\n",
       "       [0.13302341],\n",
       "       [0.05551028],\n",
       "       [0.66508067]], dtype=float32)"
      ]
     },
     "execution_count": 19,
     "metadata": {},
     "output_type": "execute_result"
    }
   ],
   "source": [
    "predicted_target "
   ]
  },
  {
   "cell_type": "code",
   "execution_count": 20,
   "metadata": {},
   "outputs": [
    {
     "data": {
      "text/plain": [
       "array([0.10062143], dtype=float32)"
      ]
     },
     "execution_count": 20,
     "metadata": {},
     "output_type": "execute_result"
    }
   ],
   "source": [
    "predicted_target[0]"
   ]
  },
  {
   "cell_type": "markdown",
   "metadata": {},
   "source": [
    "### 훈련기록 시각화하기"
   ]
  },
  {
   "cell_type": "code",
   "execution_count": 25,
   "metadata": {},
   "outputs": [
    {
     "name": "stdout",
     "output_type": "stream",
     "text": [
      "Epoch 1/15\n",
      "25/25 [==============================] - 2s 77ms/step - loss: 0.5166 - accuracy: 0.7816 - val_loss: 0.4258 - val_accuracy: 0.8305\n",
      "Epoch 2/15\n",
      "25/25 [==============================] - 1s 36ms/step - loss: 0.3217 - accuracy: 0.8945 - val_loss: 0.3224 - val_accuracy: 0.8818\n",
      "Epoch 3/15\n",
      "25/25 [==============================] - 1s 34ms/step - loss: 0.2424 - accuracy: 0.9200 - val_loss: 0.2935 - val_accuracy: 0.8866\n",
      "Epoch 4/15\n",
      "25/25 [==============================] - 1s 33ms/step - loss: 0.2019 - accuracy: 0.9321 - val_loss: 0.3063 - val_accuracy: 0.8769\n",
      "Epoch 5/15\n",
      "25/25 [==============================] - 1s 35ms/step - loss: 0.1761 - accuracy: 0.9411 - val_loss: 0.2991 - val_accuracy: 0.8815\n",
      "Epoch 6/15\n",
      "25/25 [==============================] - 1s 36ms/step - loss: 0.1526 - accuracy: 0.9482 - val_loss: 0.2983 - val_accuracy: 0.8811\n",
      "Epoch 7/15\n",
      "25/25 [==============================] - 1s 35ms/step - loss: 0.1381 - accuracy: 0.9528 - val_loss: 0.3866 - val_accuracy: 0.8560\n",
      "Epoch 8/15\n",
      "25/25 [==============================] - 1s 34ms/step - loss: 0.1243 - accuracy: 0.9587 - val_loss: 0.3238 - val_accuracy: 0.8778\n",
      "Epoch 9/15\n",
      "25/25 [==============================] - 1s 33ms/step - loss: 0.1109 - accuracy: 0.9643 - val_loss: 0.3340 - val_accuracy: 0.8756\n",
      "Epoch 10/15\n",
      "25/25 [==============================] - 1s 34ms/step - loss: 0.1008 - accuracy: 0.9672 - val_loss: 0.3508 - val_accuracy: 0.8732\n",
      "Epoch 11/15\n",
      "25/25 [==============================] - 1s 36ms/step - loss: 0.0928 - accuracy: 0.9713 - val_loss: 0.3804 - val_accuracy: 0.8688\n",
      "Epoch 12/15\n",
      "25/25 [==============================] - 1s 36ms/step - loss: 0.0799 - accuracy: 0.9765 - val_loss: 0.4193 - val_accuracy: 0.8620\n",
      "Epoch 13/15\n",
      "25/25 [==============================] - 1s 35ms/step - loss: 0.0749 - accuracy: 0.9782 - val_loss: 0.3997 - val_accuracy: 0.8682\n",
      "Epoch 14/15\n",
      "25/25 [==============================] - 1s 36ms/step - loss: 0.0666 - accuracy: 0.9803 - val_loss: 0.4198 - val_accuracy: 0.8675\n",
      "Epoch 15/15\n",
      "25/25 [==============================] - 1s 32ms/step - loss: 0.0599 - accuracy: 0.9829 - val_loss: 0.4360 - val_accuracy: 0.8652\n"
     ]
    },
    {
     "data": {
      "image/png": "[encoded data removed]",
      "text/plain": [
       "<Figure size 432x288 with 1 Axes>"
      ]
     },
     "metadata": {
      "needs_background": "light"
     },
     "output_type": "display_data"
    }
   ],
   "source": [
    "import numpy as np\n",
    "from keras.datasets import imdb\n",
    "from keras.preprocessing.text import Tokenizer\n",
    "from keras import models\n",
    "from keras import layers\n",
    "import matplotlib.pyplot as plt\n",
    "\n",
    "np.random.seed(0)\n",
    "\n",
    "number_of_features = 10000\n",
    "\n",
    "(data_train,target_train), (data_test,target_test) = imdb.load_data(num_words= number_of_features)\n",
    "tokenizer = Tokenizer(num_words = number_of_features)\n",
    "features_train = tokenizer.sequences_to_matrix(data_train, mode='binary')\n",
    "features_test = tokenizer.sequences_to_matrix(data_test,mode = 'binary')\n",
    "\n",
    "network = models.Sequential()\n",
    "\n",
    "network.add(layers.Dense(units = 16, activation = 'relu', input_shape = (number_of_features,)))\n",
    "\n",
    "network.add(layers.Dense(units = 16, activation = 'relu'))\n",
    "\n",
    "network.add(layers.Dense(units = 1, activation = 'sigmoid'))\n",
    "\n",
    "network.compile(loss= 'binary_crossentropy',optimizer = 'rmsprop',metrics = ['accuracy'])\n",
    "\n",
    "history = network.fit(features_train, target_train, epochs = 15, verbose = 1, batch_size = 1000, validation_data = (features_test,target_test))\n",
    "\n",
    "training_loss = history.history['loss']\n",
    "test_loss = history.history['val_loss']\n",
    "\n",
    "epoch_count = range(1,len(training_loss) + 1)\n",
    "\n",
    "plt.plot(epoch_count,training_loss,'r--')\n",
    "plt.plot(epoch_count, test_loss, 'b--')\n",
    "plt.legend(['Training Loss','Test Loss'])\n",
    "plt.xlabel('Epoch')\n",
    "plt.ylabel('Loss')\n",
    "plt.show()"
   ]
  },
  {
   "cell_type": "code",
   "execution_count": 27,
   "metadata": {},
   "outputs": [
    {
     "ename": "NameError",
     "evalue": "name 'test_accuracy' is not defined",
     "output_type": "error",
     "traceback": [
      "\u001b[1;31m---------------------------------------------------------------------------\u001b[0m",
      "\u001b[1;31mNameError\u001b[0m                                 Traceback (most recent call last)",
      "\u001b[1;32m<ipython-input-27-ccdbcba0c344>\u001b[0m in \u001b[0;36m<module>\u001b[1;34m\u001b[0m\n\u001b[0;32m      2\u001b[0m \u001b[0mtest_accuaracy\u001b[0m \u001b[1;33m=\u001b[0m \u001b[0mhistory\u001b[0m\u001b[1;33m.\u001b[0m\u001b[0mhistory\u001b[0m\u001b[1;33m[\u001b[0m\u001b[1;34m'val_accuracy'\u001b[0m\u001b[1;33m]\u001b[0m\u001b[1;33m\u001b[0m\u001b[1;33m\u001b[0m\u001b[0m\n\u001b[0;32m      3\u001b[0m \u001b[0mplt\u001b[0m\u001b[1;33m.\u001b[0m\u001b[0mplot\u001b[0m\u001b[1;33m(\u001b[0m\u001b[0mepoch_count\u001b[0m\u001b[1;33m,\u001b[0m \u001b[0mtraining_accuracy\u001b[0m\u001b[1;33m,\u001b[0m \u001b[1;34m'r--'\u001b[0m\u001b[1;33m)\u001b[0m\u001b[1;33m\u001b[0m\u001b[1;33m\u001b[0m\u001b[0m\n\u001b[1;32m----> 4\u001b[1;33m \u001b[0mplt\u001b[0m\u001b[1;33m.\u001b[0m\u001b[0mplot\u001b[0m\u001b[1;33m(\u001b[0m\u001b[0mepoch_count\u001b[0m\u001b[1;33m,\u001b[0m \u001b[0mtest_accuracy\u001b[0m\u001b[1;33m,\u001b[0m \u001b[1;34m'b--'\u001b[0m\u001b[1;33m)\u001b[0m\u001b[1;33m\u001b[0m\u001b[1;33m\u001b[0m\u001b[0m\n\u001b[0m\u001b[0;32m      5\u001b[0m \u001b[1;33m\u001b[0m\u001b[0m\n\u001b[0;32m      6\u001b[0m \u001b[0mplt\u001b[0m\u001b[1;33m.\u001b[0m\u001b[0mlegend\u001b[0m\u001b[1;33m(\u001b[0m\u001b[1;33m[\u001b[0m\u001b[1;34m'Training Accuracy'\u001b[0m\u001b[1;33m,\u001b[0m\u001b[1;34m'Test Accuracy'\u001b[0m\u001b[1;33m]\u001b[0m\u001b[1;33m)\u001b[0m\u001b[1;33m\u001b[0m\u001b[1;33m\u001b[0m\u001b[0m\n",
      "\u001b[1;31mNameError\u001b[0m: name 'test_accuracy' is not defined"
     ]
    },
    {
     "data": {
      "image/png": "[encoded data removed]",
      "text/plain": [
       "<Figure size 432x288 with 1 Axes>"
      ]
     },
     "metadata": {
      "needs_background": "light"
     },
     "output_type": "display_data"
    }
   ],
   "source": [
    "training_accuracy = history.history['accuracy']\n",
    "test_accuaracy = history.history['val_accuracy']\n",
    "plt.plot(epoch_count, training_accuracy, 'r--')\n",
    "plt.plot(epoch_count, test_accuracy, 'b--')\n",
    "\n",
    "plt.legend(['Training Accuracy','Test Accuracy'])\n",
    "plt.xlabel('Epoch')\n",
    "plt.ylabel('Accuracy Score')\n",
    "plt.show();"
   ]
  },
  {
   "cell_type": "code",
   "execution_count": null,
   "metadata": {},
   "outputs": [],
   "source": []
  }
 ],
 "metadata": {
  "kernelspec": {
   "display_name": "Python 3",
   "language": "python",
   "name": "python3"
  },
  "language_info": {
   "codemirror_mode": {
    "name": "ipython",
    "version": 3
   },
   "file_extension": ".py",
   "mimetype": "text/x-python",
   "name": "python",
   "nbconvert_exporter": "python",
   "pygments_lexer": "ipython3",
   "version": "3.7.6"
  }
 },
 "nbformat": 4,
 "nbformat_minor": 4
}

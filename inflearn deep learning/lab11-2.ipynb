{
 "cells": [
  {
   "cell_type": "code",
   "execution_count": 26,
   "metadata": {},
   "outputs": [],
   "source": [
    "import tensorflow.compat.v1 as tf\n",
    "tf.disable_v2_behavior()\n",
    "tf.compat.v1.disable_eager_execution()\n",
    "import matplotlib.pyplot as plt\n",
    "import numpy as np\n",
    "import random"
   ]
  },
  {
   "cell_type": "code",
   "execution_count": 28,
   "metadata": {},
   "outputs": [
    {
     "name": "stdout",
     "output_type": "stream",
     "text": [
      "Extracting MNIST_data/train-images-idx3-ubyte.gz\n",
      "Extracting MNIST_data/train-labels-idx1-ubyte.gz\n",
      "Extracting MNIST_data/t10k-images-idx3-ubyte.gz\n",
      "Extracting MNIST_data/t10k-labels-idx1-ubyte.gz\n",
      "(?, 14, 14, 32)\n"
     ]
    }
   ],
   "source": [
    "from tensorflow.examples.tutorials.mnist import input_data\n",
    "mnist = input_data.read_data_sets(\"MNIST_data/\",one_hot = True)\n",
    "\n",
    "X = tf.placeholder(tf.float32,[None,784])\n",
    "X_img = tf.reshape(X,[-1,28,28,1])\n",
    "Y = tf.placeholder(tf.float32,[None,10])\n",
    "keep_prob = tf.placeholder(tf.float32)\n",
    "W1 = tf.Variable(tf.random_normal([3,3,1,32],stddev = 0.01))\n",
    "L1 = tf.nn.conv2d(X_img,W1,strides=[1,1,1,1],padding='SAME')\n",
    "L1 = tf.nn.relu(L1)\n",
    "L1 = tf.nn.max_pool(L1,ksize=[1,2,2,1],strides = [1,2,2,1],padding = 'SAME')\n",
    "L1 = tf.nn.dropout(L1,keep_prob=keep_prob)\n",
    "print(L1.shape)"
   ]
  },
  {
   "cell_type": "code",
   "execution_count": 29,
   "metadata": {},
   "outputs": [
    {
     "name": "stdout",
     "output_type": "stream",
     "text": [
      "(?, 7, 7, 64)\n"
     ]
    }
   ],
   "source": [
    "W2 = tf.Variable(tf.random_normal([3,3,32,64],stddev = 0.01))\n",
    "L2 = tf.nn.conv2d(L1,W2,strides=[1,1,1,1],padding='SAME')\n",
    "L2 = tf.nn.relu(L2)\n",
    "L2 = tf.nn.max_pool(L2,ksize=[1,2,2,1],strides=[1,2,2,1],padding='SAME')\n",
    "L2 = tf.nn.dropout(L2,keep_prob=keep_prob)\n",
    "print(L2.shape)"
   ]
  },
  {
   "cell_type": "code",
   "execution_count": 30,
   "metadata": {},
   "outputs": [
    {
     "name": "stdout",
     "output_type": "stream",
     "text": [
      "(?, 4, 4, 128)\n"
     ]
    }
   ],
   "source": [
    "W3 = tf.Variable(tf.random_normal([3,3,64,128],stddev = 0.01))\n",
    "L3 = tf.nn.conv2d(L2,W3,strides = [1,1,1,1],padding='SAME')\n",
    "L3 = tf.nn.relu(L3)\n",
    "L3 = tf.nn.max_pool(L3,ksize=[1,2,2,1],strides = [1,2,2,1],padding='SAME')\n",
    "L3 = tf.nn.dropout(L3,keep_prob=keep_prob)\n",
    "print(L3.shape)"
   ]
  },
  {
   "cell_type": "code",
   "execution_count": 31,
   "metadata": {},
   "outputs": [
    {
     "name": "stdout",
     "output_type": "stream",
     "text": [
      "(?, 2, 2, 256)\n"
     ]
    }
   ],
   "source": [
    "W4 = tf.Variable(tf.random_normal([3,3,128,256],stddev = 0.01))\n",
    "L4 = tf.nn.conv2d(L3,W4,strides = [1,1,1,1],padding='SAME')\n",
    "L4 = tf.nn.relu(L4)\n",
    "L4 = tf.nn.max_pool(L4,ksize=[1,2,2,1],strides = [1,2,2,1],padding='SAME')\n",
    "print(L4.shape)\n",
    "L4 = tf.reshape(L4,[-1,2*2*256])"
   ]
  },
  {
   "cell_type": "code",
   "execution_count": 32,
   "metadata": {},
   "outputs": [],
   "source": [
    "W5 = tf.Variable(tf.random_normal([2*2*256,10],stddev = 0.01))\n",
    "b = tf.Variable(tf.random_normal([10]))"
   ]
  },
  {
   "cell_type": "code",
   "execution_count": 33,
   "metadata": {},
   "outputs": [],
   "source": [
    "hypothesis = tf.matmul(L4,W5) +b\n",
    "cost = tf.reduce_mean(tf.nn.softmax_cross_entropy_with_logits(logits = hypothesis, labels = Y))\n",
    "optimizer = tf.train.AdamOptimizer(learning_rate = 0.001).minimize(cost)"
   ]
  },
  {
   "cell_type": "code",
   "execution_count": 35,
   "metadata": {},
   "outputs": [
    {
     "name": "stdout",
     "output_type": "stream",
     "text": [
      "learning started. It may take some time\n",
      "Epoch: 0001 cost 0.634356817\n",
      "Epoch: 0002 cost 0.139525411\n",
      "Epoch: 0003 cost 0.089043317\n",
      "Epoch: 0004 cost 0.065739672\n",
      "Epoch: 0005 cost 0.052795109\n",
      "Epoch: 0006 cost 0.047450264\n",
      "Epoch: 0007 cost 0.041224029\n",
      "Epoch: 0008 cost 0.036669804\n",
      "Epoch: 0009 cost 0.034245898\n",
      "Epoch: 0010 cost 0.032587701\n",
      "Epoch: 0011 cost 0.030094240\n",
      "Epoch: 0012 cost 0.027348332\n",
      "Epoch: 0013 cost 0.027357421\n",
      "Epoch: 0014 cost 0.023744077\n",
      "Epoch: 0015 cost 0.023124619\n",
      "learning finished\n",
      "accuracy: 0.9931\n"
     ]
    }
   ],
   "source": [
    "sess = tf.Session()\n",
    "sess.run(tf.global_variables_initializer())\n",
    "\n",
    "print('learning started. It may take some time')\n",
    "for epoch in range(15):\n",
    "    avg_cost = 0\n",
    "    total_batch = int(mnist.train.num_examples / 100)\n",
    "    for i in range(total_batch):\n",
    "        batch_xs, batch_ys = mnist.train.next_batch(100)\n",
    "        feed_dict = {X:batch_xs,Y:batch_ys,keep_prob:0.7}\n",
    "        c,_ = sess.run([cost,optimizer],feed_dict = feed_dict)\n",
    "        avg_cost += c/total_batch\n",
    "    print('Epoch:','%04d'%(epoch+1),'cost','{:.9f}'.format(avg_cost))\n",
    "\n",
    "print('learning finished')\n",
    "\n",
    "correct_prediction = tf.equal(tf.argmax(hypothesis,1),tf.argmax(Y,1))\n",
    "accuracy = tf.reduce_mean(tf.cast(correct_prediction,tf.float32))\n",
    "print('accuracy:',sess.run(accuracy,feed_dict = {X:mnist.test.images,Y:mnist.test.labels,keep_prob:1}))"
   ]
  },
  {
   "cell_type": "code",
   "execution_count": null,
   "metadata": {},
   "outputs": [],
   "source": []
  }
 ],
 "metadata": {
  "kernelspec": {
   "display_name": "Python 3",
   "language": "python",
   "name": "python3"
  },
  "language_info": {
   "codemirror_mode": {
    "name": "ipython",
    "version": 3
   },
   "file_extension": ".py",
   "mimetype": "text/x-python",
   "name": "python",
   "nbconvert_exporter": "python",
   "pygments_lexer": "ipython3",
   "version": "3.7.7"
  }
 },
 "nbformat": 4,
 "nbformat_minor": 4
}

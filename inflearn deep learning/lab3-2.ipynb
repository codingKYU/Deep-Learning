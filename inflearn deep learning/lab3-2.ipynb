{
 "cells": [
  {
   "cell_type": "code",
   "execution_count": 1,
   "metadata": {},
   "outputs": [
    {
     "name": "stdout",
     "output_type": "stream",
     "text": [
      "WARNING:tensorflow:From C:\\Users\\jlee0\\anaconda3\\envs\\tf\\lib\\site-packages\\tensorflow_core\\python\\compat\\v2_compat.py:88: disable_resource_variables (from tensorflow.python.ops.variable_scope) is deprecated and will be removed in a future version.\n",
      "Instructions for updating:\n",
      "non-resource variables are not supported in the long term\n"
     ]
    }
   ],
   "source": [
    "import tensorflow.compat.v1 as tf\n",
    "tf.disable_v2_behavior()\n",
    "tf.compat.v1.disable_eager_execution()\n",
    "import matplotlib.pyplot as plt"
   ]
  },
  {
   "cell_type": "code",
   "execution_count": 2,
   "metadata": {},
   "outputs": [],
   "source": [
    "x_data = [1,2,3]\n",
    "y_data = [1,2,3]"
   ]
  },
  {
   "cell_type": "code",
   "execution_count": 5,
   "metadata": {},
   "outputs": [],
   "source": [
    "W = tf.Variable(tf.random_normal([1]),name = 'weight')\n",
    "X = tf.placeholder(tf.float32)\n",
    "Y = tf.placeholder(tf.float32)"
   ]
  },
  {
   "cell_type": "code",
   "execution_count": 7,
   "metadata": {},
   "outputs": [],
   "source": [
    "hypothesis = X * W\n",
    "cost = tf.reduce_mean(tf.square(hypothesis - Y))"
   ]
  },
  {
   "cell_type": "code",
   "execution_count": 8,
   "metadata": {},
   "outputs": [],
   "source": [
    "learning_rate = 0.1\n",
    "gradient = tf.reduce_mean((X * W - Y)* X)\n",
    "descent = W - learning_rate * gradient\n",
    "update = W.assign(descent)"
   ]
  },
  {
   "cell_type": "code",
   "execution_count": 9,
   "metadata": {},
   "outputs": [],
   "source": [
    "sess = tf.Session()\n",
    "sess.run(tf.global_variables_initializer())"
   ]
  },
  {
   "cell_type": "code",
   "execution_count": 11,
   "metadata": {},
   "outputs": [
    {
     "name": "stdout",
     "output_type": "stream",
     "text": [
      "0 1.4533788 [0.44193342]\n",
      "1 0.41340542 [0.7023645]\n",
      "2 0.11759088 [0.8412611]\n",
      "3 0.03344808 [0.91533923]\n",
      "4 0.009514127 [0.9548476]\n",
      "5 0.0027062427 [0.9759187]\n",
      "6 0.00076977676 [0.9871566]\n",
      "7 0.00021896132 [0.9931502]\n",
      "8 6.228126e-05 [0.9963468]\n",
      "9 1.7716418e-05 [0.9980516]\n",
      "10 5.0394415e-06 [0.99896085]\n",
      "11 1.4334618e-06 [0.9994458]\n",
      "12 4.0767836e-07 [0.9997044]\n",
      "13 1.1600821e-07 [0.99984235]\n",
      "14 3.2998113e-08 [0.9999159]\n",
      "15 9.405981e-09 [0.9999551]\n",
      "16 2.6850036e-09 [0.99997604]\n",
      "17 7.5623063e-10 [0.99998724]\n",
      "18 2.1708975e-10 [0.9999932]\n",
      "19 6.2126304e-11 [0.99999636]\n",
      "20 1.6977234e-11 [0.9999981]\n"
     ]
    }
   ],
   "source": [
    "for step in range(21) : \n",
    "    sess.run(update,feed_dict={X:x_data,Y:y_data})\n",
    "    print(step,sess.run(cost,feed_dict = {X:x_data, Y:y_data}),sess.run(W))"
   ]
  },
  {
   "cell_type": "code",
   "execution_count": null,
   "metadata": {},
   "outputs": [],
   "source": []
  }
 ],
 "metadata": {
  "kernelspec": {
   "display_name": "Python 3",
   "language": "python",
   "name": "python3"
  },
  "language_info": {
   "codemirror_mode": {
    "name": "ipython",
    "version": 3
   },
   "file_extension": ".py",
   "mimetype": "text/x-python",
   "name": "python",
   "nbconvert_exporter": "python",
   "pygments_lexer": "ipython3",
   "version": "3.7.6"
  }
 },
 "nbformat": 4,
 "nbformat_minor": 4
}

{
 "cells": [
  {
   "cell_type": "code",
   "execution_count": 1,
   "metadata": {},
   "outputs": [
    {
     "name": "stdout",
     "output_type": "stream",
     "text": [
      "WARNING:tensorflow:From C:\\Users\\jlee0\\anaconda3\\envs\\tf\\lib\\site-packages\\tensorflow_core\\python\\compat\\v2_compat.py:88: disable_resource_variables (from tensorflow.python.ops.variable_scope) is deprecated and will be removed in a future version.\n",
      "Instructions for updating:\n",
      "non-resource variables are not supported in the long term\n"
     ]
    }
   ],
   "source": [
    "import tensorflow.compat.v1 as tf\n",
    "tf.disable_v2_behavior()\n",
    "tf.compat.v1.disable_eager_execution()"
   ]
  },
  {
   "cell_type": "code",
   "execution_count": 2,
   "metadata": {},
   "outputs": [],
   "source": [
    "X_data = [[1,2],[2,3],[3,1],[4,3],[5,3],[6,2]]\n",
    "Y_data = [[0],[0],[0],[1],[1],[1]]\n",
    "\n",
    "X = tf.placeholder(tf.float32, shape = [None,2])\n",
    "Y = tf.placeholder(tf.float32, shape = [None,1])\n",
    "W = tf.Variable(tf.random_normal([2,1]),name = 'weight')\n",
    "b = tf.Variable(tf.random_normal([1]),name = 'bias')\n",
    "hypothesis = tf.sigmoid(tf.matmul(X,W)+b)"
   ]
  },
  {
   "cell_type": "code",
   "execution_count": 3,
   "metadata": {},
   "outputs": [],
   "source": [
    "cost = - tf.reduce_mean(Y * tf.log(hypothesis)+(1 - Y) * tf.log(1-hypothesis))\n",
    "train = tf.train.GradientDescentOptimizer(learning_rate = 0.01).minimize(cost)"
   ]
  },
  {
   "cell_type": "code",
   "execution_count": 4,
   "metadata": {},
   "outputs": [],
   "source": [
    "predicted = tf.cast(hypothesis > 0.5, dtype = tf.float32)\n",
    "accuracy = tf.reduce_mean(tf.cast(tf.equal(predicted,Y),dtype = tf.float32))"
   ]
  },
  {
   "cell_type": "code",
   "execution_count": 5,
   "metadata": {},
   "outputs": [
    {
     "name": "stdout",
     "output_type": "stream",
     "text": [
      "0 1.3074194\n",
      "200 0.5831804\n",
      "400 0.5619743\n",
      "600 0.54162806\n",
      "800 0.5221083\n",
      "1000 0.5034089\n",
      "1200 0.48552004\n",
      "1400 0.46842727\n",
      "1600 0.45211267\n",
      "1800 0.43655515\n",
      "2000 0.4217309\n",
      "2200 0.40761423\n",
      "2400 0.39417753\n",
      "2600 0.3813927\n",
      "2800 0.36923066\n",
      "3000 0.35766232\n",
      "3200 0.34665874\n",
      "3400 0.3361914\n",
      "3600 0.3262324\n",
      "3800 0.31675467\n",
      "4000 0.30773208\n",
      "4200 0.2991397\n",
      "4400 0.2909535\n",
      "4600 0.28315067\n",
      "4800 0.27570948\n",
      "5000 0.2686096\n",
      "5200 0.2618315\n",
      "5400 0.2553571\n",
      "5600 0.24916899\n",
      "5800 0.24325101\n",
      "6000 0.23758793\n",
      "6200 0.23216552\n",
      "6400 0.22697039\n",
      "6600 0.22198994\n",
      "6800 0.2172123\n",
      "7000 0.21262658\n",
      "7200 0.20822217\n",
      "7400 0.20398967\n",
      "7600 0.19991969\n",
      "7800 0.1960039\n",
      "8000 0.19223422\n",
      "8200 0.18860315\n",
      "8400 0.18510349\n",
      "8600 0.18172888\n",
      "8800 0.17847294\n",
      "9000 0.17532985\n",
      "9200 0.17229415\n",
      "9400 0.16936074\n",
      "9600 0.16652459\n",
      "9800 0.16378133\n",
      "10000 0.16112651\n"
     ]
    }
   ],
   "source": [
    "sess = tf.Session()\n",
    "sess.run(tf.global_variables_initializer())\n",
    "    \n",
    "for step in range(10001) : \n",
    "    cost_val,_= sess.run([cost,train],feed_dict = {X : X_data, Y : Y_data})\n",
    "    if step%200 == 0:\n",
    "        print(step,cost_val)"
   ]
  },
  {
   "cell_type": "code",
   "execution_count": 8,
   "metadata": {},
   "outputs": [
    {
     "name": "stdout",
     "output_type": "stream",
     "text": [
      "\n",
      " hypothesis : [[0.03577986]\n",
      " [0.16516034]\n",
      " [0.3281416 ]\n",
      " [0.77094233]\n",
      " [0.93280643]\n",
      " [0.9779246 ]]  \n",
      "correct(Y) : [[0.]\n",
      " [0.]\n",
      " [0.]\n",
      " [1.]\n",
      " [1.]\n",
      " [1.]]  \n",
      " accuracy : 1.0\n"
     ]
    }
   ],
   "source": [
    "h,c,a = sess.run([hypothesis, predicted, accuracy], feed_dict = {X : X_data, Y : Y_data})\n",
    "print(\"\\n hypothesis :\",h,\" \\ncorrect(Y) :\",c,\" \\n accuracy :\",a)"
   ]
  },
  {
   "cell_type": "code",
   "execution_count": null,
   "metadata": {},
   "outputs": [],
   "source": []
  }
 ],
 "metadata": {
  "kernelspec": {
   "display_name": "Python 3",
   "language": "python",
   "name": "python3"
  },
  "language_info": {
   "codemirror_mode": {
    "name": "ipython",
    "version": 3
   },
   "file_extension": ".py",
   "mimetype": "text/x-python",
   "name": "python",
   "nbconvert_exporter": "python",
   "pygments_lexer": "ipython3",
   "version": "3.7.6"
  }
 },
 "nbformat": 4,
 "nbformat_minor": 4
}

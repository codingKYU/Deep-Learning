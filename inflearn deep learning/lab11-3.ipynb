{
 "cells": [
  {
   "cell_type": "code",
   "execution_count": 5,
   "metadata": {},
   "outputs": [
    {
     "name": "stdout",
     "output_type": "stream",
     "text": [
      "WARNING:tensorflow:From C:\\Users\\jlee0\\anaconda3\\envs\\tf\\lib\\site-packages\\tensorflow_core\\python\\compat\\v2_compat.py:88: disable_resource_variables (from tensorflow.python.ops.variable_scope) is deprecated and will be removed in a future version.\n",
      "Instructions for updating:\n",
      "non-resource variables are not supported in the long term\n"
     ]
    }
   ],
   "source": [
    "import tensorflow.compat.v1 as tf\n",
    "tf.disable_v2_behavior()\n",
    "tf.compat.v1.disable_eager_execution()\n",
    "import matplotlib.pyplot as plt\n",
    "import numpy as np\n",
    "import random"
   ]
  },
  {
   "cell_type": "code",
   "execution_count": 31,
   "metadata": {},
   "outputs": [
    {
     "name": "stdout",
     "output_type": "stream",
     "text": [
      "Extracting MNIST_data/train-images-idx3-ubyte.gz\n",
      "Extracting MNIST_data/train-labels-idx1-ubyte.gz\n",
      "Extracting MNIST_data/t10k-images-idx3-ubyte.gz\n",
      "Extracting MNIST_data/t10k-labels-idx1-ubyte.gz\n"
     ]
    }
   ],
   "source": [
    "from tensorflow.examples.tutorials.mnist import input_data\n",
    "mnist = input_data.read_data_sets(\"MNIST_data/\",one_hot = True)\n",
    "\n",
    "class model:\n",
    "    def __init__(self,sess,name):\n",
    "        self.sess = sess\n",
    "        self.name = name\n",
    "        self._build_net()\n",
    "    \n",
    "    def _build_net(self):\n",
    "        with tf.variable_scope(self.name):\n",
    "            self.X = tf.placeholder(tf.float32,[None,784])\n",
    "            X_img = tf.reshape(self.X,[-1,28,28,1])\n",
    "            self.Y = tf.placeholder(tf.float32,[None,10])\n",
    "            self.keep_prob = tf.placeholder(tf.float32)\n",
    "            W1 = tf.Variable(tf.random_normal([3,3,1,32],stddev = 0.01))\n",
    "            L1 = tf.nn.conv2d(X_img,W1,strides=[1,1,1,1],padding='SAME')\n",
    "            L1 = tf.nn.relu(L1)\n",
    "            L1 = tf.nn.max_pool(L1,ksize=[1,2,2,1],strides = [1,2,2,1],padding = 'SAME')\n",
    "            L1 = tf.nn.dropout(L1,keep_prob=self.keep_prob)\n",
    "            \n",
    "            W2 = tf.Variable(tf.random_normal([3,3,32,64],stddev = 0.01))\n",
    "            L2 = tf.nn.conv2d(L1,W2,strides=[1,1,1,1],padding='SAME')\n",
    "            L2 = tf.nn.relu(L2)\n",
    "            L2 = tf.nn.max_pool(L2,ksize=[1,2,2,1],strides=[1,2,2,1],padding='SAME')\n",
    "            L2 = tf.nn.dropout(L2,keep_prob=self.keep_prob)\n",
    "            \n",
    "            W3 = tf.Variable(tf.random_normal([3,3,64,128],stddev = 0.01))\n",
    "            L3 = tf.nn.conv2d(L2,W3,strides = [1,1,1,1],padding='SAME')\n",
    "            L3 = tf.nn.relu(L3)\n",
    "            L3 = tf.nn.max_pool(L3,ksize=[1,2,2,1],strides = [1,2,2,1],padding='SAME')\n",
    "            L3 = tf.nn.dropout(L3,keep_prob=self.keep_prob)\n",
    "\n",
    "            W4 = tf.Variable(tf.random_normal([3,3,128,256],stddev = 0.01))\n",
    "            L4 = tf.nn.conv2d(L3,W4,strides = [1,1,1,1],padding='SAME')\n",
    "            L4 = tf.nn.relu(L4)\n",
    "            L4 = tf.nn.max_pool(L4,ksize=[1,2,2,1],strides = [1,2,2,1],padding='SAME')\n",
    "            L4 = tf.reshape(L4,[-1,2*2*256])\n",
    "            \n",
    "            W5 = tf.Variable(tf.random_normal([2*2*256,10],stddev = 0.01))\n",
    "            b = tf.Variable(tf.random_normal([10]))\n",
    "            \n",
    "            self.hypothesis = tf.matmul(L4,W5) +b\n",
    "     \n",
    "        self.cost = tf.reduce_mean(tf.nn.softmax_cross_entropy_with_logits(logits = self.hypothesis, labels = self.Y))\n",
    "        self.optimizer = tf.train.AdamOptimizer(learning_rate = 0.001).minimize(self.cost)\n",
    "        correct_prediction = tf.equal(tf.argmax(self.hypothesis,1),tf.argmax(self.Y,1))\n",
    "        self.accuracy = tf.reduce_mean(tf.cast(correct_prediction,tf.float32))\n",
    "\n",
    "            \n",
    "    def train(self,x_data,y_data,keep_prob = 0.7):\n",
    "        return self.sess.run([self.cost,self.optimizer],feed_dict = {self.X:x_data,self.Y:y_data,self.keep_prob : keep_prob})\n",
    "   \n",
    "    def predict(self,x_test,keep_prob = 0.1):\n",
    "        return self.sess.run(self.hypothesis,feed_dict = {self.X:x_test,self.keep_prob : keep_prob})\n",
    "\n",
    "    def get_accuracy(self,x_test,y_test,keep_prob=0.1):\n",
    "        return self.sess.run(self.accuracy,feed_dict = {self.X:x_test,self.Y:y_test,self.keep_prob : keep_prob})\n",
    "\n",
    "\n"
   ]
  },
  {
   "cell_type": "code",
   "execution_count": null,
   "metadata": {},
   "outputs": [
    {
     "name": "stdout",
     "output_type": "stream",
     "text": [
      "learning started. It may take some time\n",
      "Epoch: 0001 cost 0.582564103\n",
      "Epoch: 0002 cost 0.113400076\n",
      "Epoch: 0003 cost 0.081666905\n",
      "Epoch: 0004 cost 0.063033858\n",
      "Epoch: 0005 cost 0.053268993\n",
      "Epoch: 0006 cost 0.046859243\n",
      "Epoch: 0007 cost 0.044124991\n",
      "Epoch: 0008 cost 0.038665857\n",
      "Epoch: 0009 cost 0.034316766\n",
      "Epoch: 0010 cost 0.032912995\n",
      "Epoch: 0011 cost 0.030706438\n",
      "Epoch: 0012 cost 0.027397258\n",
      "Epoch: 0013 cost 0.027231312\n",
      "Epoch: 0014 cost 0.025534249\n"
     ]
    }
   ],
   "source": [
    "sess = tf.Session()\n",
    "m1 = model(sess,\"m1\")\n",
    "sess.run(tf.global_variables_initializer())\n",
    "\n",
    "print('learning started. It may take some time')\n",
    "for epoch in range(15):\n",
    "    avg_cost = 0\n",
    "    total_batch = int(mnist.train.num_examples / 100)\n",
    "    for i in range(total_batch):\n",
    "        batch_xs, batch_ys = mnist.train.next_batch(100)\n",
    "        c,_ = m1.train(batch_xs,batch_ys)\n",
    "        avg_cost += c/total_batch\n",
    "    print('Epoch:','%04d'%(epoch+1),'cost','{:.9f}'.format(avg_cost))\n",
    "\n",
    "print('learning finished')"
   ]
  },
  {
   "cell_type": "code",
   "execution_count": null,
   "metadata": {},
   "outputs": [],
   "source": []
  },
  {
   "cell_type": "code",
   "execution_count": null,
   "metadata": {},
   "outputs": [],
   "source": []
  },
  {
   "cell_type": "code",
   "execution_count": null,
   "metadata": {},
   "outputs": [],
   "source": []
  },
  {
   "cell_type": "code",
   "execution_count": null,
   "metadata": {},
   "outputs": [],
   "source": []
  },
  {
   "cell_type": "code",
   "execution_count": null,
   "metadata": {},
   "outputs": [],
   "source": []
  },
  {
   "cell_type": "code",
   "execution_count": null,
   "metadata": {},
   "outputs": [],
   "source": []
  }
 ],
 "metadata": {
  "kernelspec": {
   "display_name": "Python 3",
   "language": "python",
   "name": "python3"
  },
  "language_info": {
   "codemirror_mode": {
    "name": "ipython",
    "version": 3
   },
   "file_extension": ".py",
   "mimetype": "text/x-python",
   "name": "python",
   "nbconvert_exporter": "python",
   "pygments_lexer": "ipython3",
   "version": "3.7.6"
  }
 },
 "nbformat": 4,
 "nbformat_minor": 4
}

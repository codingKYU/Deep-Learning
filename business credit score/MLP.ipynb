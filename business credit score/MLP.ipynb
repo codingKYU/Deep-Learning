{
 "cells": [
  {
   "cell_type": "code",
   "execution_count": 5,
   "metadata": {},
   "outputs": [
    {
     "name": "stdin",
     "output_type": "stream",
     "text": [
      " 472 385\n"
     ]
    },
    {
     "name": "stdout",
     "output_type": "stream",
     "text": [
      "2360\n",
      "3776\n",
      "1416\n",
      "181720\n"
     ]
    }
   ],
   "source": [
    "num_1,num_2= map(int,input().split())\n",
    "num_2_hunds = num_2 // 100\n",
    "num_2_tens = (num_2 - num_2_hunds *100) // 10\n",
    "num_2_ones = (num_2 - num_2_hunds*100 - num_2_tens*10)\n",
    "num_3 = num_1 * num_2_ones\n",
    "num_4 = num_1 * num_2_tens\n",
    "num_5 = num_1 * num_2_hunds\n",
    "num_6 = num_3 + num_4 * 10 + num_5 * 100\n",
    "print(num_3,num_4,num_5,num_6,sep = '\\n')"
   ]
  },
  {
   "cell_type": "code",
   "execution_count": null,
   "metadata": {},
   "outputs": [],
   "source": []
  }
 ],
 "metadata": {
  "kernelspec": {
   "display_name": "Python 3",
   "language": "python",
   "name": "python3"
  },
  "language_info": {
   "codemirror_mode": {
    "name": "ipython",
    "version": 3
   },
   "file_extension": ".py",
   "mimetype": "text/x-python",
   "name": "python",
   "nbconvert_exporter": "python",
   "pygments_lexer": "ipython3",
   "version": "3.7.6"
  }
 },
 "nbformat": 4,
 "nbformat_minor": 4
}

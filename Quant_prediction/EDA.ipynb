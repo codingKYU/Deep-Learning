{
 "cells": [
  {
   "cell_type": "code",
   "execution_count": null,
   "metadata": {},
   "outputs": [],
   "source": [
    "import pandas as pd\n",
    "import numpy as np"
   ]
  },
  {
   "cell_type": "code",
   "execution_count": null,
   "metadata": {},
   "outputs": [],
   "source": [
    "q1 = pd.read_excel('C:/Users/jlee0/Desktop/KYU/hanim ict/1/tot_data/2017.01.01.xlsx')\n",
    "q2 = pd.read_excel('C:/Users/jlee0/Desktop/KYU/hanim ict/1/tot_data/2017.02.01.xlsx')\n",
    "q3 = pd.read_excel('C:/Users/jlee0/Desktop/KYU/hanim ict/1/tot_data/2017.03.01.xlsx')\n",
    "q4 = pd.read_excel('C:/Users/jlee0/Desktop/KYU/hanim ict/1/tot_data/2017.04.01.xlsx')\n",
    "q5 = pd.read_excel('C:/Users/jlee0/Desktop/KYU/hanim ict/1/tot_data/2017.05.01.xlsx')\n",
    "q6 = pd.read_excel('C:/Users/jlee0/Desktop/KYU/hanim ict/1/tot_data/2017.06.01.xlsx')\n",
    "q7 = pd.read_excel('C:/Users/jlee0/Desktop/KYU/hanim ict/1/tot_data/2017.07.01.xlsx')\n",
    "q8 = pd.read_excel('C:/Users/jlee0/Desktop/KYU/hanim ict/1/tot_data/2017.08.01.xlsx')\n",
    "q9 = pd.read_excel('C:/Users/jlee0/Desktop/KYU/hanim ict/1/tot_data/2017.09.01.xlsx')\n",
    "q10 = pd.read_excel('C:/Users/jlee0/Desktop/KYU/hanim ict/1/tot_data/2017.10.01.xlsx')\n",
    "q11 = pd.read_excel('C:/Users/jlee0/Desktop/KYU/hanim ict/1/tot_data/2017.11.01.xlsx')\n",
    "q12 = pd.read_excel('C:/Users/jlee0/Desktop/KYU/hanim ict/1/tot_data/2017.12.01.xlsx')\n",
    "\n",
    "\n",
    "w1 = pd.read_excel('C:/Users/jlee0/Desktop/KYU/hanim ict/1/tot_data/2018.01.01.xlsx')\n",
    "w2 = pd.read_excel('C:/Users/jlee0/Desktop/KYU/hanim ict/1/tot_data/2018.02.01.xlsx')\n",
    "w3 = pd.read_excel('C:/Users/jlee0/Desktop/KYU/hanim ict/1/tot_data/2018.03.01.xlsx')\n",
    "w4 = pd.read_excel('C:/Users/jlee0/Desktop/KYU/hanim ict/1/tot_data/2018.04.01.xlsx')\n",
    "w5 = pd.read_excel('C:/Users/jlee0/Desktop/KYU/hanim ict/1/tot_data/2018.05.01.xlsx')\n",
    "w6 = pd.read_excel('C:/Users/jlee0/Desktop/KYU/hanim ict/1/tot_data/2018.06.01.xlsx')\n",
    "w7 = pd.read_excel('C:/Users/jlee0/Desktop/KYU/hanim ict/1/tot_data/2018.07.01.xlsx')\n",
    "w8 = pd.read_excel('C:/Users/jlee0/Desktop/KYU/hanim ict/1/tot_data/2018.08.01.xlsx')\n",
    "w9 = pd.read_excel('C:/Users/jlee0/Desktop/KYU/hanim ict/1/tot_data/2018.09.01.xlsx')\n",
    "w10 = pd.read_excel('C:/Users/jlee0/Desktop/KYU/hanim ict/1/tot_data/2018.10.01.xlsx')\n",
    "w11 = pd.read_excel('C:/Users/jlee0/Desktop/KYU/hanim ict/1/tot_data/2018.11.01.xlsx')\n",
    "w12 = pd.read_excel('C:/Users/jlee0/Desktop/KYU/hanim ict/1/tot_data/2018.12.01.xlsx')\n",
    "\n",
    "e1 = pd.read_excel('C:/Users/jlee0/Desktop/KYU/hanim ict/1/tot_data/2019.01.xlsx')\n",
    "e2 = pd.read_excel('C:/Users/jlee0/Desktop/KYU/hanim ict/1/tot_data/2019.02.xlsx')\n",
    "e3 = pd.read_excel('C:/Users/jlee0/Desktop/KYU/hanim ict/1/tot_data/2019.03.xlsx')\n",
    "e4 = pd.read_excel('C:/Users/jlee0/Desktop/KYU/hanim ict/1/tot_data/2019.04.xlsx')\n",
    "e5 = pd.read_excel('C:/Users/jlee0/Desktop/KYU/hanim ict/1/tot_data/2019.05.xlsx')\n",
    "e6 = pd.read_excel('C:/Users/jlee0/Desktop/KYU/hanim ict/1/tot_data/2019.06.xlsx')\n",
    "e7 = pd.read_excel('C:/Users/jlee0/Desktop/KYU/hanim ict/1/tot_data/2019.07.xlsx')\n",
    "e8 = pd.read_excel('C:/Users/jlee0/Desktop/KYU/hanim ict/1/tot_data/2019.08.xlsx')\n",
    "e9 = pd.read_excel('C:/Users/jlee0/Desktop/KYU/hanim ict/1/tot_data/2019.09.xlsx')\n",
    "e10 = pd.read_excel('C:/Users/jlee0/Desktop/KYU/hanim ict/1/tot_data/2019.10.xlsx')\n",
    "e11 = pd.read_excel('C:/Users/jlee0/Desktop/KYU/hanim ict/1/tot_data/2019.11.xlsx')\n",
    "e12 = pd.read_excel('C:/Users/jlee0/Desktop/KYU/hanim ict/1/tot_data/2019.12.xlsx')"
   ]
  },
  {
   "cell_type": "code",
   "execution_count": null,
   "metadata": {},
   "outputs": [],
   "source": []
  },
  {
   "cell_type": "code",
   "execution_count": null,
   "metadata": {},
   "outputs": [],
   "source": [
    "b = q1.columns & q2.columns & q3.columns & q4.columns & q5.columns & q6.columns & q7.columns & q8.columns & q9.columns & q10.columns & q11.columns & q12.columns & w1.columns & w2.columns & w3.columns & w4.columns & w5.columns & w6.columns & w7.columns & w8.columns & w9.columns & w10.columns & w11.columns & w12.columns & e1.columns & e2.columns & e3.columns & e4.columns & e5.columns & e6.columns & e7.columns & e8.columns & e9.columns & e10.columns & e11.columns & e12.columns "
   ]
  },
  {
   "cell_type": "code",
   "execution_count": null,
   "metadata": {},
   "outputs": [],
   "source": [
    "b"
   ]
  },
  {
   "cell_type": "code",
   "execution_count": null,
   "metadata": {},
   "outputs": [],
   "source": [
    "def dataset(a):\n",
    "    return a[['코드\\n번호', '회사명', '업종\\n(대)', '업종\\n(소)', '코스피코스닥', '주가\\n(원)', '시가총액\\n(억)',\n",
    "       '1일\\n등락률\\n(%)', '5일\\n등락률\\n(%)', '과거\\nROE\\n(%)', '과거\\nROA\\n(%)',\n",
    "       '과거\\nPCR', '고점\\nPBR', '저점\\nPBR', '5년평균\\nPBR', '과거\\nPER', '발표\\nPER',\n",
    "       '1년후\\nPER', '시가\\n배당률\\n(%)', '부채\\n(억)', '자본\\n(억)', '매출액\\n(억)',\n",
    "       '영업이익\\n(억)', '순이익(지배)\\n(억)', '신고가율\\n(%)', '당일\\n기관(%)', '당일\\n외인(%)',\n",
    "       '당일\\n수급(%)', '주간\\n기관(%)', '주간\\n외인(%)', '주간\\n수급(%)', '고점대비\\nPBR괴리율',\n",
    "       '저점대비\\nPBR괴리율', '목표가 \\n괴리율\\n(%)', '목표\\n주가\\n(원)', '마지막\\n리포트일', '실적\\n발표일',\n",
    "       '1주일\\n어닝스', '1달\\n어닝스', '3개월 \\n어닝스', '6개월 \\n어닝스', '12개월 \\n어닝스',\n",
    "       '어닝스\\n점수']]"
   ]
  },
  {
   "cell_type": "code",
   "execution_count": null,
   "metadata": {},
   "outputs": [],
   "source": [
    "a = []\n",
    "a.append(dataset(q1))\n",
    "a.append(dataset(q2))\n",
    "a.append(dataset(q3))\n",
    "a.append(dataset(q4))\n",
    "a.append(dataset(q5))\n",
    "a.append(dataset(q6))\n",
    "a.append(dataset(q7))\n",
    "a.append(dataset(q8))\n",
    "a.append(dataset(q9))\n",
    "a.append(dataset(q10))\n",
    "a.append(dataset(q11))\n",
    "a.append(dataset(q12))"
   ]
  },
  {
   "cell_type": "code",
   "execution_count": null,
   "metadata": {},
   "outputs": [],
   "source": [
    "b = []\n",
    "b.append(dataset(w1))\n",
    "b.append(dataset(w2))\n",
    "b.append(dataset(w3))\n",
    "b.append(dataset(w4))\n",
    "b.append(dataset(w5))\n",
    "b.append(dataset(w6))\n",
    "b.append(dataset(w7))\n",
    "b.append(dataset(w8))\n",
    "b.append(dataset(w9))\n",
    "b.append(dataset(w10))\n",
    "b.append(dataset(w11))\n",
    "b.append(dataset(w12))\n",
    "\n",
    "c = []\n",
    "c.append(dataset(e1))\n",
    "c.append(dataset(e2))\n",
    "c.append(dataset(e3))\n",
    "c.append(dataset(e4))\n",
    "c.append(dataset(e5))\n",
    "c.append(dataset(e6))\n",
    "c.append(dataset(e7))\n",
    "c.append(dataset(e8))\n",
    "c.append(dataset(e9))\n",
    "c.append(dataset(e10))\n",
    "c.append(dataset(e11))\n",
    "c.append(dataset(e12))"
   ]
  },
  {
   "cell_type": "code",
   "execution_count": null,
   "metadata": {},
   "outputs": [],
   "source": [
    "def select_bis(standard_data,test_data):  #standard_data : 2017.01월 데이터, test_bis : 원하는 일시의 데이터\n",
    "    standard_bis = set(standard_data['코드\\n번호'])\n",
    "    test_bis = set(test_data['코드\\n번호'])\n",
    "    drop_bis = test_bis - standard_bis  #신규 발행 회사 제거\n",
    "    for k in drop_bis:\n",
    "        id = test_data[test_data['코드\\n번호']==k].index\n",
    "        test_data.drop(id,inplace = True)\n",
    "        \n",
    "    return test_data"
   ]
  },
  {
   "cell_type": "code",
   "execution_count": null,
   "metadata": {},
   "outputs": [],
   "source": [
    "standard_data = a[0]\n",
    "\n",
    "for i in range(12):\n",
    "    test_data = a[i]\n",
    "    test_data = select_bis(standard_data,test_data)\n",
    "    a[i] = test_data"
   ]
  },
  {
   "cell_type": "code",
   "execution_count": null,
   "metadata": {},
   "outputs": [],
   "source": [
    "for i in range(12):\n",
    "    test_data = b[i]\n",
    "    test_data = select_bis(standard_data,test_data)\n",
    "    b[i] = test_data\n",
    "    \n",
    "for i in range(12):\n",
    "    test_data = c[i]\n",
    "    test_data = select_bis(standard_data,test_data)\n",
    "    c[i] = test_data"
   ]
  },
  {
   "cell_type": "code",
   "execution_count": null,
   "metadata": {},
   "outputs": [],
   "source": [
    "for k in range(12):\n",
    "    a[i].to_excel('2017.0%d.xlsx'%k)\n",
    "    b[i].to_excel('2018.0%d.xlsx'%k)\n",
    "    c[i].to_excel('2019.0%d.xlsx'%k)"
   ]
  },
  {
   "cell_type": "code",
   "execution_count": null,
   "metadata": {
    "scrolled": true
   },
   "outputs": [],
   "source": [
    "a[i]"
   ]
  },
  {
   "cell_type": "code",
   "execution_count": null,
   "metadata": {},
   "outputs": [],
   "source": [
    "c[11]"
   ]
  },
  {
   "cell_type": "code",
   "execution_count": null,
   "metadata": {},
   "outputs": [],
   "source": [
    "y1 = pd.read_excel('C:/Users/jlee0/Desktop/KYU/hanim ict/1/data/tot_data/2017.01.01.xlsx')\n",
    "x1 = pd.read_excel('C:/Users/jlee0/Desktop/KYU/hanim ict/1/data/tot_data/2018.01.01.xlsx')"
   ]
  },
  {
   "cell_type": "code",
   "execution_count": null,
   "metadata": {},
   "outputs": [],
   "source": [
    "set(y1['코드\\n번호']) - set(x1['코드\\n번호'])"
   ]
  },
  {
   "cell_type": "code",
   "execution_count": null,
   "metadata": {},
   "outputs": [],
   "source": [
    "len(set(y1['코드\\n번호'])) "
   ]
  },
  {
   "cell_type": "markdown",
   "metadata": {},
   "source": [
    "### 결측치 채우기"
   ]
  },
  {
   "cell_type": "markdown",
   "metadata": {},
   "source": [
    "1. 결측치 유무 확인\n",
    "\n",
    "2. 기업이 파산한 경우 파산 후의 데이터를 모두 0으로 채움"
   ]
  },
  {
   "cell_type": "code",
   "execution_count": null,
   "metadata": {},
   "outputs": [],
   "source": [
    "standard = pd.read_excel('C:/Users/jlee0/Desktop/KYU/hanim ict/1/data/dault_data/2017.00.xlsx')"
   ]
  },
  {
   "cell_type": "code",
   "execution_count": null,
   "metadata": {},
   "outputs": [],
   "source": [
    "standard"
   ]
  },
  {
   "cell_type": "code",
   "execution_count": 2,
   "metadata": {},
   "outputs": [],
   "source": [
    "import pandas as pd\n",
    "import numpy as np\n",
    "\n",
    "a = []\n",
    "b = []\n",
    "c = []\n",
    "\n",
    "for k in range(12):\n",
    "    a.append(pd.read_excel('C:/Users/jlee0/Desktop/KYU/hanim ict/1/data/dault_data/2017.0%d.xlsx'%k))\n",
    "    b.append(pd.read_excel('C:/Users/jlee0/Desktop/KYU/hanim ict/1/data/dault_data/2018.0%d.xlsx'%k))\n",
    "    c.append(pd.read_excel('C:/Users/jlee0/Desktop/KYU/hanim ict/1/data/dault_data/2019.0%d.xlsx'%k))"
   ]
  },
  {
   "cell_type": "code",
   "execution_count": null,
   "metadata": {},
   "outputs": [],
   "source": [
    "a[0]"
   ]
  },
  {
   "cell_type": "code",
   "execution_count": null,
   "metadata": {},
   "outputs": [],
   "source": [
    "set(a[0]['코드\\n번호']) - set(b[0]['코드\\n번호'])"
   ]
  },
  {
   "cell_type": "code",
   "execution_count": null,
   "metadata": {},
   "outputs": [],
   "source": [
    "p = set(a[0]['코드\\n번호']) - set(c[11]['코드\\n번호'])"
   ]
  },
  {
   "cell_type": "code",
   "execution_count": null,
   "metadata": {},
   "outputs": [],
   "source": [
    "len(p)"
   ]
  },
  {
   "cell_type": "code",
   "execution_count": null,
   "metadata": {},
   "outputs": [],
   "source": [
    "q1 = pd.merge(a[0],c[11],on = \"코드\\n번호\", how = \"left\")"
   ]
  },
  {
   "cell_type": "code",
   "execution_count": null,
   "metadata": {},
   "outputs": [],
   "source": [
    "q1.info()"
   ]
  },
  {
   "cell_type": "code",
   "execution_count": null,
   "metadata": {},
   "outputs": [],
   "source": [
    "q1.columns"
   ]
  },
  {
   "cell_type": "code",
   "execution_count": null,
   "metadata": {},
   "outputs": [],
   "source": [
    "q1.drop(['Unnamed: 0_x','회사명_x', '업종\\n(대)_x', '업종\\n(소)_x', '코스피코스닥_x',\n",
    "       '주가\\n(원)_x', '시가총액\\n(억)_x', '1일\\n등락률\\n(%)_x', '5일\\n등락률\\n(%)_x',\n",
    "       '과거\\nROE\\n(%)_x', '과거\\nROA\\n(%)_x', '과거\\nPCR_x', '고점\\nPBR_x',\n",
    "       '저점\\nPBR_x', '5년평균\\nPBR_x', '과거\\nPER_x', '발표\\nPER_x', '1년후\\nPER_x',\n",
    "       '시가\\n배당률\\n(%)_x', '부채\\n(억)_x', '자본\\n(억)_x', '매출액\\n(억)_x', '영업이익\\n(억)_x',\n",
    "       '순이익(지배)\\n(억)_x', '신고가율\\n(%)_x', '당일\\n기관(%)_x', '당일\\n외인(%)_x',\n",
    "       '당일\\n수급(%)_x', '주간\\n기관(%)_x', '주간\\n외인(%)_x', '주간\\n수급(%)_x',\n",
    "       '고점대비\\nPBR괴리율_x', '저점대비\\nPBR괴리율_x', '목표가 \\n괴리율\\n(%)_x', '목표\\n주가\\n(원)_x',\n",
    "       '마지막\\n리포트일_x', '실적\\n발표일_x', '1주일\\n어닝스_x', '1달\\n어닝스_x', '3개월 \\n어닝스_x',\n",
    "       '6개월 \\n어닝스_x', '12개월 \\n어닝스_x', '어닝스\\n점수_x', 'Unnamed: 0_y'], axis='columns', inplace=True)"
   ]
  },
  {
   "cell_type": "code",
   "execution_count": null,
   "metadata": {},
   "outputs": [],
   "source": [
    "q1"
   ]
  },
  {
   "cell_type": "code",
   "execution_count": null,
   "metadata": {},
   "outputs": [],
   "source": [
    "q1.isnull().sum()"
   ]
  },
  {
   "cell_type": "code",
   "execution_count": 3,
   "metadata": {},
   "outputs": [],
   "source": [
    "def union_bis(standard_bis, selected_bis):\n",
    "    union_selected_bis = pd.merge(standard_bis,selected_bis,on = \"코드\\n번호\", how = \"left\")\n",
    "    union_selected_bis.drop(['Unnamed: 0_x','회사명_x', '업종\\n(대)_x', '업종\\n(소)_x', '코스피코스닥_x',\n",
    "       '주가\\n(원)_x', '시가총액\\n(억)_x', '1일\\n등락률\\n(%)_x', '5일\\n등락률\\n(%)_x',\n",
    "       '과거\\nROE\\n(%)_x', '과거\\nROA\\n(%)_x', '과거\\nPCR_x', '고점\\nPBR_x',\n",
    "       '저점\\nPBR_x', '5년평균\\nPBR_x', '과거\\nPER_x', '발표\\nPER_x', '1년후\\nPER_x',\n",
    "       '시가\\n배당률\\n(%)_x', '부채\\n(억)_x', '자본\\n(억)_x', '매출액\\n(억)_x', '영업이익\\n(억)_x',\n",
    "       '순이익(지배)\\n(억)_x', '신고가율\\n(%)_x', '당일\\n기관(%)_x', '당일\\n외인(%)_x',\n",
    "       '당일\\n수급(%)_x', '주간\\n기관(%)_x', '주간\\n외인(%)_x', '주간\\n수급(%)_x',\n",
    "       '고점대비\\nPBR괴리율_x', '저점대비\\nPBR괴리율_x', '목표가 \\n괴리율\\n(%)_x', '목표\\n주가\\n(원)_x',\n",
    "       '마지막\\n리포트일_x', '실적\\n발표일_x', '1주일\\n어닝스_x', '1달\\n어닝스_x', '3개월 \\n어닝스_x',\n",
    "       '6개월 \\n어닝스_x', '12개월 \\n어닝스_x', '어닝스\\n점수_x', 'Unnamed: 0_y'], axis='columns', inplace=True)\n",
    "    \n",
    "    union_selected_bis.fillna(0, inplace = True)\n",
    "    \n",
    "    return union_selected_bis"
   ]
  },
  {
   "cell_type": "code",
   "execution_count": null,
   "metadata": {},
   "outputs": [],
   "source": [
    "q = []\n",
    "q.append(union_bis(a[0],a[1]))"
   ]
  },
  {
   "cell_type": "code",
   "execution_count": 6,
   "metadata": {},
   "outputs": [
    {
     "ename": "IndexError",
     "evalue": "list index out of range",
     "output_type": "error",
     "traceback": [
      "\u001b[1;31m---------------------------------------------------------------------------\u001b[0m",
      "\u001b[1;31mIndexError\u001b[0m                                Traceback (most recent call last)",
      "\u001b[1;32m<ipython-input-6-61f6e549ff85>\u001b[0m in \u001b[0;36m<module>\u001b[1;34m\u001b[0m\n\u001b[0;32m     11\u001b[0m     \u001b[0mw\u001b[0m\u001b[1;33m.\u001b[0m\u001b[0mappend\u001b[0m\u001b[1;33m(\u001b[0m\u001b[0munion_bis\u001b[0m\u001b[1;33m(\u001b[0m\u001b[0ma\u001b[0m\u001b[1;33m[\u001b[0m\u001b[1;36m0\u001b[0m\u001b[1;33m]\u001b[0m\u001b[1;33m,\u001b[0m\u001b[0mb\u001b[0m\u001b[1;33m[\u001b[0m\u001b[0mi\u001b[0m\u001b[1;33m]\u001b[0m\u001b[1;33m)\u001b[0m\u001b[1;33m)\u001b[0m\u001b[1;33m\u001b[0m\u001b[1;33m\u001b[0m\u001b[0m\n\u001b[0;32m     12\u001b[0m     \u001b[0me\u001b[0m\u001b[1;33m.\u001b[0m\u001b[0mappend\u001b[0m\u001b[1;33m(\u001b[0m\u001b[0munion_bis\u001b[0m\u001b[1;33m(\u001b[0m\u001b[0ma\u001b[0m\u001b[1;33m[\u001b[0m\u001b[1;36m0\u001b[0m\u001b[1;33m]\u001b[0m\u001b[1;33m,\u001b[0m\u001b[0mc\u001b[0m\u001b[1;33m[\u001b[0m\u001b[0mi\u001b[0m\u001b[1;33m]\u001b[0m\u001b[1;33m)\u001b[0m\u001b[1;33m)\u001b[0m\u001b[1;33m\u001b[0m\u001b[1;33m\u001b[0m\u001b[0m\n\u001b[1;32m---> 13\u001b[1;33m     \u001b[0mw\u001b[0m\u001b[1;33m[\u001b[0m\u001b[0mi\u001b[0m\u001b[1;33m]\u001b[0m\u001b[1;33m.\u001b[0m\u001b[0mto_excel\u001b[0m\u001b[1;33m(\u001b[0m\u001b[1;34m'2018.%d.xlsx'\u001b[0m\u001b[1;33m%\u001b[0m\u001b[1;33m(\u001b[0m\u001b[0mi\u001b[0m\u001b[1;33m+\u001b[0m\u001b[1;36m1\u001b[0m\u001b[1;33m)\u001b[0m\u001b[1;33m)\u001b[0m\u001b[1;33m\u001b[0m\u001b[1;33m\u001b[0m\u001b[0m\n\u001b[0m\u001b[0;32m     14\u001b[0m     \u001b[0me\u001b[0m\u001b[1;33m[\u001b[0m\u001b[0mi\u001b[0m\u001b[1;33m]\u001b[0m\u001b[1;33m.\u001b[0m\u001b[0mto_excel\u001b[0m\u001b[1;33m(\u001b[0m\u001b[1;34m'2019.%d.xlsx'\u001b[0m\u001b[1;33m%\u001b[0m\u001b[1;33m(\u001b[0m\u001b[0mi\u001b[0m\u001b[1;33m+\u001b[0m\u001b[1;36m1\u001b[0m\u001b[1;33m)\u001b[0m\u001b[1;33m)\u001b[0m\u001b[1;33m\u001b[0m\u001b[1;33m\u001b[0m\u001b[0m\n",
      "\u001b[1;31mIndexError\u001b[0m: list index out of range"
     ]
    }
   ],
   "source": [
    "q = []\n",
    "w = []\n",
    "e = []\n",
    "\n",
    "for i in range(1,12):\n",
    "    q.append(union_bis(a[0],a[i]))\n",
    "\n",
    "    q[i-1].to_excel('2017.%d.xlsx'%(i+1))\n",
    "    \n"
   ]
  },
  {
   "cell_type": "code",
   "execution_count": 7,
   "metadata": {},
   "outputs": [],
   "source": [
    "for k in range(12):\n",
    "    w.append(union_bis(a[0],b[k]))\n",
    "    e.append(union_bis(a[0],c[k]))\n",
    "    w[k].to_excel('2018.%d.xlsx'%(k+1))\n",
    "    e[k].to_excel('2019.%d.xlsx'%(k+1))"
   ]
  },
  {
   "cell_type": "code",
   "execution_count": null,
   "metadata": {},
   "outputs": [],
   "source": [
    "q[2]"
   ]
  },
  {
   "cell_type": "code",
   "execution_count": null,
   "metadata": {},
   "outputs": [],
   "source": [
    "q[3]"
   ]
  },
  {
   "cell_type": "code",
   "execution_count": null,
   "metadata": {},
   "outputs": [],
   "source": [
    "q[4]"
   ]
  },
  {
   "cell_type": "code",
   "execution_count": null,
   "metadata": {},
   "outputs": [],
   "source": []
  }
 ],
 "metadata": {
  "kernelspec": {
   "display_name": "Python 3",
   "language": "python",
   "name": "python3"
  },
  "language_info": {
   "codemirror_mode": {
    "name": "ipython",
    "version": 3
   },
   "file_extension": ".py",
   "mimetype": "text/x-python",
   "name": "python",
   "nbconvert_exporter": "python",
   "pygments_lexer": "ipython3",
   "version": "3.7.6"
  }
 },
 "nbformat": 4,
 "nbformat_minor": 2
}
